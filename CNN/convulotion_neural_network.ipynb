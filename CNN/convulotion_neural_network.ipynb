{
 "cells": [
  {
   "cell_type": "code",
   "execution_count": 1,
   "id": "0d6f051e",
   "metadata": {},
   "outputs": [],
   "source": [
    "import tensorflow as tf\n",
    "from keras.preprocessing.image import ImageDataGenerator"
   ]
  },
  {
   "cell_type": "code",
   "execution_count": 2,
   "id": "82081459",
   "metadata": {},
   "outputs": [
    {
     "data": {
      "text/plain": [
       "'2.6.0'"
      ]
     },
     "execution_count": 2,
     "metadata": {},
     "output_type": "execute_result"
    }
   ],
   "source": [
    "tf.__version__"
   ]
  },
  {
   "cell_type": "markdown",
   "id": "6a8a1254",
   "metadata": {},
   "source": [
    "# Data Preprocessing\n"
   ]
  },
  {
   "cell_type": "code",
   "execution_count": 3,
   "id": "7462b763",
   "metadata": {},
   "outputs": [
    {
     "name": "stdout",
     "output_type": "stream",
     "text": [
      "Found 8000 images belonging to 2 classes.\n"
     ]
    }
   ],
   "source": [
    "train_datagen = ImageDataGenerator(\n",
    "        rescale = 1./255,\n",
    "        shear_range = 0.2,\n",
    "        zoom_range = 0.2,\n",
    "        horizontal_flip = True\n",
    ")\n",
    "\n",
    "training_set = train_datagen.flow_from_directory(\n",
    "        'dataset/training_set',\n",
    "        target_size=(64,64),\n",
    "        batch_size=32,\n",
    "        class_mode='binary'\n",
    ") "
   ]
  },
  {
   "cell_type": "code",
   "execution_count": 4,
   "id": "9d0fd42b",
   "metadata": {},
   "outputs": [
    {
     "name": "stdout",
     "output_type": "stream",
     "text": [
      "Found 2000 images belonging to 2 classes.\n"
     ]
    }
   ],
   "source": [
    "test_datagen = ImageDataGenerator(rescale = 1./255)\n",
    "\n",
    "test_set = test_datagen.flow_from_directory(\n",
    "        'dataset/test_set',\n",
    "        target_size=(64,64),\n",
    "        batch_size=32,\n",
    "        class_mode='binary'\n",
    ") "
   ]
  },
  {
   "cell_type": "markdown",
   "id": "47c70eb2",
   "metadata": {},
   "source": [
    "# Building CNN\n"
   ]
  },
  {
   "cell_type": "code",
   "execution_count": 5,
   "id": "fd20943a",
   "metadata": {},
   "outputs": [],
   "source": [
    "cnn = tf.keras.models.Sequential()"
   ]
  },
  {
   "cell_type": "code",
   "execution_count": 6,
   "id": "6d81c1d0",
   "metadata": {},
   "outputs": [],
   "source": [
    "cnn.add(tf.keras.layers.Conv2D(filters=32, kernel_size=3, activation='relu', input_shape=[64,64,3]))"
   ]
  },
  {
   "cell_type": "code",
   "execution_count": 7,
   "id": "8614023c",
   "metadata": {},
   "outputs": [],
   "source": [
    "cnn.add(tf.keras.layers.MaxPool2D(pool_size=2, strides=2))"
   ]
  },
  {
   "cell_type": "code",
   "execution_count": 8,
   "id": "c8d2a48f",
   "metadata": {},
   "outputs": [],
   "source": [
    "cnn.add(tf.keras.layers.Conv2D(filters=32, kernel_size=3, activation='relu'))\n",
    "cnn.add(tf.keras.layers.MaxPool2D(pool_size=2, strides=2))"
   ]
  },
  {
   "cell_type": "code",
   "execution_count": 9,
   "id": "785fe037",
   "metadata": {},
   "outputs": [],
   "source": [
    "cnn.add(tf.keras.layers.Flatten())"
   ]
  },
  {
   "cell_type": "code",
   "execution_count": 10,
   "id": "76bac7cd",
   "metadata": {},
   "outputs": [],
   "source": [
    "cnn.add(tf.keras.layers.Dense(units=128, activation='relu'))"
   ]
  },
  {
   "cell_type": "code",
   "execution_count": 11,
   "id": "90cf7cb7",
   "metadata": {},
   "outputs": [],
   "source": [
    "cnn.add(tf.keras.layers.Dense(units=1, activation='sigmoid'))"
   ]
  },
  {
   "cell_type": "markdown",
   "id": "1c32042c",
   "metadata": {},
   "source": [
    "# Training"
   ]
  },
  {
   "cell_type": "code",
   "execution_count": 12,
   "id": "3b5957f6",
   "metadata": {},
   "outputs": [],
   "source": [
    "cnn.compile(optimizer = 'adam', loss = 'binary_crossentropy', metrics = ['accuracy'])"
   ]
  },
  {
   "cell_type": "code",
   "execution_count": 13,
   "id": "1b35f052",
   "metadata": {},
   "outputs": [
    {
     "name": "stdout",
     "output_type": "stream",
     "text": [
      "Epoch 1/25\n",
      "250/250 [==============================] - 101s 402ms/step - loss: 0.6737 - accuracy: 0.5640 - val_loss: 0.5962 - val_accuracy: 0.6775\n",
      "Epoch 2/25\n",
      "250/250 [==============================] - 60s 240ms/step - loss: 0.5931 - accuracy: 0.6758 - val_loss: 0.6054 - val_accuracy: 0.6670\n",
      "Epoch 3/25\n",
      "250/250 [==============================] - 61s 245ms/step - loss: 0.5498 - accuracy: 0.7145 - val_loss: 0.5695 - val_accuracy: 0.7030\n",
      "Epoch 4/25\n",
      "250/250 [==============================] - 61s 245ms/step - loss: 0.5213 - accuracy: 0.7410 - val_loss: 0.5157 - val_accuracy: 0.7490\n",
      "Epoch 5/25\n",
      "250/250 [==============================] - 65s 259ms/step - loss: 0.4948 - accuracy: 0.7570 - val_loss: 0.5125 - val_accuracy: 0.7515\n",
      "Epoch 6/25\n",
      "250/250 [==============================] - 63s 251ms/step - loss: 0.4840 - accuracy: 0.7670 - val_loss: 0.5286 - val_accuracy: 0.7615\n",
      "Epoch 7/25\n",
      "250/250 [==============================] - 63s 254ms/step - loss: 0.4569 - accuracy: 0.7855 - val_loss: 0.4922 - val_accuracy: 0.7790\n",
      "Epoch 8/25\n",
      "250/250 [==============================] - 63s 251ms/step - loss: 0.4487 - accuracy: 0.7851 - val_loss: 0.5906 - val_accuracy: 0.7170\n",
      "Epoch 9/25\n",
      "250/250 [==============================] - 64s 257ms/step - loss: 0.4420 - accuracy: 0.7884 - val_loss: 0.4573 - val_accuracy: 0.7960\n",
      "Epoch 10/25\n",
      "250/250 [==============================] - 62s 250ms/step - loss: 0.4257 - accuracy: 0.8041 - val_loss: 0.5243 - val_accuracy: 0.7625\n",
      "Epoch 11/25\n",
      "250/250 [==============================] - 65s 259ms/step - loss: 0.4163 - accuracy: 0.8048 - val_loss: 0.4476 - val_accuracy: 0.7950\n",
      "Epoch 12/25\n",
      "250/250 [==============================] - 66s 266ms/step - loss: 0.4104 - accuracy: 0.8096 - val_loss: 0.4487 - val_accuracy: 0.7955\n",
      "Epoch 13/25\n",
      "250/250 [==============================] - 65s 262ms/step - loss: 0.3961 - accuracy: 0.8161 - val_loss: 0.4542 - val_accuracy: 0.7970\n",
      "Epoch 14/25\n",
      "250/250 [==============================] - 70s 279ms/step - loss: 0.3958 - accuracy: 0.8184 - val_loss: 0.4578 - val_accuracy: 0.8025\n",
      "Epoch 15/25\n",
      "250/250 [==============================] - 68s 270ms/step - loss: 0.3766 - accuracy: 0.8290 - val_loss: 0.4309 - val_accuracy: 0.8120\n",
      "Epoch 16/25\n",
      "250/250 [==============================] - 66s 265ms/step - loss: 0.3662 - accuracy: 0.8386 - val_loss: 0.5231 - val_accuracy: 0.7565\n",
      "Epoch 17/25\n",
      "250/250 [==============================] - 68s 272ms/step - loss: 0.3639 - accuracy: 0.8347 - val_loss: 0.4544 - val_accuracy: 0.7960\n",
      "Epoch 18/25\n",
      "250/250 [==============================] - 65s 258ms/step - loss: 0.3622 - accuracy: 0.8382 - val_loss: 0.4580 - val_accuracy: 0.8040\n",
      "Epoch 19/25\n",
      "250/250 [==============================] - 61s 245ms/step - loss: 0.3434 - accuracy: 0.8472 - val_loss: 0.5752 - val_accuracy: 0.7630\n",
      "Epoch 20/25\n",
      "250/250 [==============================] - 63s 252ms/step - loss: 0.3392 - accuracy: 0.8462 - val_loss: 0.5614 - val_accuracy: 0.7770\n",
      "Epoch 21/25\n",
      "250/250 [==============================] - 62s 249ms/step - loss: 0.3385 - accuracy: 0.8504 - val_loss: 0.4946 - val_accuracy: 0.7915\n",
      "Epoch 22/25\n",
      "250/250 [==============================] - 66s 263ms/step - loss: 0.3216 - accuracy: 0.8614 - val_loss: 0.5644 - val_accuracy: 0.7630\n",
      "Epoch 23/25\n",
      "250/250 [==============================] - 461s 2s/step - loss: 0.3117 - accuracy: 0.8648 - val_loss: 0.4813 - val_accuracy: 0.8070\n",
      "Epoch 24/25\n",
      "250/250 [==============================] - 56s 225ms/step - loss: 0.2990 - accuracy: 0.8701 - val_loss: 0.4686 - val_accuracy: 0.8180\n",
      "Epoch 25/25\n",
      "250/250 [==============================] - 59s 234ms/step - loss: 0.2922 - accuracy: 0.8769 - val_loss: 0.4640 - val_accuracy: 0.8120\n"
     ]
    },
    {
     "data": {
      "text/plain": [
       "<keras.callbacks.History at 0x1b2c364d940>"
      ]
     },
     "execution_count": 13,
     "metadata": {},
     "output_type": "execute_result"
    }
   ],
   "source": [
    "cnn.fit(x = training_set, validation_data = test_set, epochs = 25)"
   ]
  },
  {
   "cell_type": "markdown",
   "id": "50e0fe5b",
   "metadata": {},
   "source": [
    "# Prediction"
   ]
  },
  {
   "cell_type": "code",
   "execution_count": 19,
   "id": "7f97d617",
   "metadata": {},
   "outputs": [],
   "source": [
    "import numpy as np\n",
    "from keras.preprocessing.image import image\n",
    "\n",
    "test_image = image.load_img('dataset/single_prediction/cat_or_dog_2.jpg', target_size = (64,64))\n",
    "test_image =image.img_to_array(test_image)\n",
    "test_image = np.expand_dims(test_image, axis = 0)\n",
    "\n",
    "result = cnn.predict(test_image)\n",
    "training_set.class_indices\n",
    "if result[0][0] == 1 :\n",
    "    prediction = 'dog'\n",
    "else: \n",
    "    prediction = 'cat'"
   ]
  },
  {
   "cell_type": "code",
   "execution_count": 20,
   "id": "848e1f81",
   "metadata": {},
   "outputs": [
    {
     "name": "stdout",
     "output_type": "stream",
     "text": [
      "cat\n"
     ]
    }
   ],
   "source": [
    "print(prediction)"
   ]
  },
  {
   "cell_type": "code",
   "execution_count": null,
   "id": "e3f6e60f",
   "metadata": {},
   "outputs": [],
   "source": []
  }
 ],
 "metadata": {
  "kernelspec": {
   "display_name": "Python 3 (ipykernel)",
   "language": "python",
   "name": "python3"
  },
  "language_info": {
   "codemirror_mode": {
    "name": "ipython",
    "version": 3
   },
   "file_extension": ".py",
   "mimetype": "text/x-python",
   "name": "python",
   "nbconvert_exporter": "python",
   "pygments_lexer": "ipython3",
   "version": "3.9.12"
  }
 },
 "nbformat": 4,
 "nbformat_minor": 5
}
